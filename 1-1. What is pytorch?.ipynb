{
 "cells": [
  {
   "cell_type": "code",
   "execution_count": 56,
   "metadata": {},
   "outputs": [],
   "source": [
    "from __future__ import print_function\n",
    "import torch\n",
    "import numpy as np"
   ]
  },
  {
   "cell_type": "markdown",
   "metadata": {},
   "source": [
    "## Tensors"
   ]
  },
  {
   "cell_type": "code",
   "execution_count": 15,
   "metadata": {},
   "outputs": [
    {
     "name": "stdout",
     "output_type": "stream",
     "text": [
      "tensor([[0., 0., 0.],\n",
      "        [0., 0., 0.],\n",
      "        [0., 0., 0.],\n",
      "        [0., 0., 0.],\n",
      "        [0., 0., 0.]])\n",
      "<class 'torch.Tensor'>\n"
     ]
    }
   ],
   "source": [
    "#초기화 되지 않은 5x3 행렬\n",
    "x = torch.empty(5,3)\n",
    "print(x) \n",
    "print(type(x)) #<class 'torch.Tensor'>"
   ]
  },
  {
   "cell_type": "code",
   "execution_count": 14,
   "metadata": {},
   "outputs": [
    {
     "name": "stdout",
     "output_type": "stream",
     "text": [
      "tensor([[0.3805, 0.8600, 0.4351],\n",
      "        [0.0584, 0.1063, 0.4554],\n",
      "        [0.1108, 0.6165, 0.9189],\n",
      "        [0.1677, 0.1457, 0.2678],\n",
      "        [0.3446, 0.2569, 0.3335]])\n"
     ]
    }
   ],
   "source": [
    "#무작위로 초기화된 5x3 행렬\n",
    "x = torch.rand(5,3)\n",
    "print(x)"
   ]
  },
  {
   "cell_type": "code",
   "execution_count": 18,
   "metadata": {},
   "outputs": [
    {
     "name": "stdout",
     "output_type": "stream",
     "text": [
      "tensor([[0, 0, 0],\n",
      "        [0, 0, 0],\n",
      "        [0, 0, 0],\n",
      "        [0, 0, 0],\n",
      "        [0, 0, 0]])\n"
     ]
    }
   ],
   "source": [
    "#dtype=long, 0으로 채워진 5x3 행렬\n",
    "x = torch.zeros(5,3, dtype=torch.long)\n",
    "print(x)"
   ]
  },
  {
   "cell_type": "code",
   "execution_count": 20,
   "metadata": {},
   "outputs": [
    {
     "name": "stdout",
     "output_type": "stream",
     "text": [
      "tensor([5.5000, 3.0000])\n"
     ]
    }
   ],
   "source": [
    "#텐서 생성하기\n",
    "x = torch.tensor([5.5, 3])\n",
    "print(x)"
   ]
  },
  {
   "cell_type": "code",
   "execution_count": 21,
   "metadata": {},
   "outputs": [
    {
     "name": "stdout",
     "output_type": "stream",
     "text": [
      "tensor([[1., 1., 1.],\n",
      "        [1., 1., 1.],\n",
      "        [1., 1., 1.],\n",
      "        [1., 1., 1.],\n",
      "        [1., 1., 1.]], dtype=torch.float64)\n"
     ]
    }
   ],
   "source": [
    "#기존 텐서 이용해 새로운 텐서 만들기\n",
    "x = x.new_ones(5,3, dtype=torch.double) # new_* methods take in sizes\n",
    "print(x)"
   ]
  },
  {
   "cell_type": "code",
   "execution_count": 23,
   "metadata": {},
   "outputs": [
    {
     "name": "stdout",
     "output_type": "stream",
     "text": [
      "tensor([[ 0.1906,  0.4442,  0.7628],\n",
      "        [ 0.9788, -0.4636,  0.1087],\n",
      "        [ 0.6712, -0.5046,  1.7789],\n",
      "        [ 3.3385, -1.1798, -0.3752],\n",
      "        [-1.9142,  1.7420, -0.9551]])\n"
     ]
    }
   ],
   "source": [
    "#기존 텐서 이용해 새로운 텐서 만들기 -> 새로운 값 제공하지 않는한 입력 텐서의 속성을 재사용함\n",
    "x = torch.randn_like(x, dtype=torch.float) # override dtype! -> result has the same size\n",
    "print(x)                                     "
   ]
  },
  {
   "cell_type": "code",
   "execution_count": 25,
   "metadata": {},
   "outputs": [
    {
     "name": "stdout",
     "output_type": "stream",
     "text": [
      "torch.Size([5, 3])\n"
     ]
    }
   ],
   "source": [
    "#텐서 사이즈 구하기 -> 반환값: 튜플\n",
    "print(x.size())"
   ]
  },
  {
   "cell_type": "markdown",
   "metadata": {},
   "source": [
    "## Operations"
   ]
  },
  {
   "cell_type": "code",
   "execution_count": 49,
   "metadata": {},
   "outputs": [
    {
     "name": "stdout",
     "output_type": "stream",
     "text": [
      "tensor([-0.6678])\n",
      "tensor([[0.1248, 0.8487, 0.8999],\n",
      "        [0.7487, 0.6591, 0.5920],\n",
      "        [0.3360, 0.4749, 0.7679],\n",
      "        [0.4065, 0.4450, 0.6871],\n",
      "        [0.2882, 0.0531, 0.2522]])\n",
      "tensor([[-0.5430,  0.1809,  0.2321],\n",
      "        [ 0.0809, -0.0087, -0.0757],\n",
      "        [-0.3318, -0.1929,  0.1001],\n",
      "        [-0.2613, -0.2228,  0.0194],\n",
      "        [-0.3796, -0.6146, -0.4156]])\n"
     ]
    }
   ],
   "source": [
    "#addtion1\n",
    "y = torch.rand(5,3)\n",
    "print(x)\n",
    "print(y)\n",
    "print(x+y)"
   ]
  },
  {
   "cell_type": "code",
   "execution_count": 50,
   "metadata": {},
   "outputs": [
    {
     "name": "stdout",
     "output_type": "stream",
     "text": [
      "tensor([[-0.5430,  0.1809,  0.2321],\n",
      "        [ 0.0809, -0.0087, -0.0757],\n",
      "        [-0.3318, -0.1929,  0.1001],\n",
      "        [-0.2613, -0.2228,  0.0194],\n",
      "        [-0.3796, -0.6146, -0.4156]])\n"
     ]
    }
   ],
   "source": [
    "#addtion2\n",
    "print(torch.add(x,y))"
   ]
  },
  {
   "cell_type": "code",
   "execution_count": 51,
   "metadata": {},
   "outputs": [
    {
     "name": "stdout",
     "output_type": "stream",
     "text": [
      "tensor([[0.0000e+00, 1.5846e+29, 0.0000e+00],\n",
      "        [1.5846e+29, 1.2612e-44, 0.0000e+00],\n",
      "        [0.0000e+00, 0.0000e+00, 0.0000e+00],\n",
      "        [0.0000e+00, 0.0000e+00, 0.0000e+00],\n",
      "        [0.0000e+00, 0.0000e+00, 0.0000e+00]])\n",
      "tensor([[-0.5430,  0.1809,  0.2321],\n",
      "        [ 0.0809, -0.0087, -0.0757],\n",
      "        [-0.3318, -0.1929,  0.1001],\n",
      "        [-0.2613, -0.2228,  0.0194],\n",
      "        [-0.3796, -0.6146, -0.4156]])\n"
     ]
    }
   ],
   "source": [
    "#addition3\n",
    "#출력 텐서를 인수로 제공하기\n",
    "result = torch.empty(5,3)\n",
    "print(result)\n",
    "torch.add(x,y, out=result)\n",
    "print(result)"
   ]
  },
  {
   "cell_type": "code",
   "execution_count": 52,
   "metadata": {},
   "outputs": [
    {
     "name": "stdout",
     "output_type": "stream",
     "text": [
      "tensor([[-0.5430,  0.1809,  0.2321],\n",
      "        [ 0.0809, -0.0087, -0.0757],\n",
      "        [-0.3318, -0.1929,  0.1001],\n",
      "        [-0.2613, -0.2228,  0.0194],\n",
      "        [-0.3796, -0.6146, -0.4156]])\n"
     ]
    }
   ],
   "source": [
    "#addtion4\n",
    "#값 변경하기\n",
    "y.add_(x)\n",
    "print(y)"
   ]
  },
  {
   "cell_type": "code",
   "execution_count": 53,
   "metadata": {},
   "outputs": [
    {
     "name": "stdout",
     "output_type": "stream",
     "text": [
      "tensor([ 0.1809, -0.0087, -0.1929, -0.2228, -0.6146])\n"
     ]
    }
   ],
   "source": [
    "#numpy indexing 기능 가능\n",
    "print(y[:, 1])"
   ]
  },
  {
   "cell_type": "code",
   "execution_count": 54,
   "metadata": {},
   "outputs": [
    {
     "name": "stdout",
     "output_type": "stream",
     "text": [
      "tensor([[-6.1188e-01,  2.4278e-01, -3.8899e-01,  5.5498e-01],\n",
      "        [ 5.9755e-01,  1.5871e+00,  8.0728e-01,  1.4699e-01],\n",
      "        [-2.9943e-01, -5.5403e-01,  1.4515e-03, -5.9569e-01],\n",
      "        [-2.0618e-01, -6.5150e-01,  1.7253e+00,  2.1894e+00]])\n",
      "torch.Size([4, 4])\n",
      "tensor([-6.1188e-01,  2.4278e-01, -3.8899e-01,  5.5498e-01,  5.9755e-01,\n",
      "         1.5871e+00,  8.0728e-01,  1.4699e-01, -2.9943e-01, -5.5403e-01,\n",
      "         1.4515e-03, -5.9569e-01, -2.0618e-01, -6.5150e-01,  1.7253e+00,\n",
      "         2.1894e+00])\n",
      "torch.Size([16])\n",
      "tensor([[-6.1188e-01,  2.4278e-01, -3.8899e-01,  5.5498e-01,  5.9755e-01,\n",
      "          1.5871e+00,  8.0728e-01,  1.4699e-01],\n",
      "        [-2.9943e-01, -5.5403e-01,  1.4515e-03, -5.9569e-01, -2.0618e-01,\n",
      "         -6.5150e-01,  1.7253e+00,  2.1894e+00]])\n",
      "torch.Size([2, 8])\n"
     ]
    }
   ],
   "source": [
    "#텐서 사이즈 조정하기\n",
    "x = torch.randn(4,4) # [4,4]\n",
    "print(x)\n",
    "print(x.size())\n",
    "y = x.view(16) # [16]\n",
    "print(y)\n",
    "print(y.size())\n",
    "z = x.view(-1, 8) # [2,8]\n",
    "print(z)\n",
    "print(z.size())"
   ]
  },
  {
   "cell_type": "code",
   "execution_count": 55,
   "metadata": {},
   "outputs": [
    {
     "name": "stdout",
     "output_type": "stream",
     "text": [
      "tensor([-0.6268])\n",
      "-0.626834511756897\n"
     ]
    }
   ],
   "source": [
    "#텐서 요소가 1개일때, 값 가져오기\n",
    "x = torch.randn(1)\n",
    "print(x)\n",
    "print(x.item())"
   ]
  },
  {
   "cell_type": "markdown",
   "metadata": {},
   "source": [
    "## Numpy\n",
    "- Torch tensor와 NumPy array는 기본 메모리 위치를 공유하며 (Torch tensor가 CPU에 있는 경우) 하나를 변경하면 다른 쪽도 변경됨\n",
    "- CharTensor를 제외한 CPU의 모든 tensor는 NumPy로의 변환을 지원함"
   ]
  },
  {
   "cell_type": "code",
   "execution_count": 67,
   "metadata": {},
   "outputs": [
    {
     "name": "stdout",
     "output_type": "stream",
     "text": [
      "tensor([1., 1., 1., 1., 1.])\n",
      "[1. 1. 1. 1. 1.]\n"
     ]
    }
   ],
   "source": [
    "#torch 텐서를 numpy array로 바꾸기\n",
    "a = torch.ones(5)\n",
    "print(a)\n",
    "b = a.numpy()\n",
    "print(b)"
   ]
  },
  {
   "cell_type": "code",
   "execution_count": 65,
   "metadata": {},
   "outputs": [
    {
     "name": "stdout",
     "output_type": "stream",
     "text": [
      "tensor([2., 2., 2., 2., 2.])\n"
     ]
    }
   ],
   "source": [
    "a.add_(1)\n",
    "print(a)"
   ]
  },
  {
   "cell_type": "code",
   "execution_count": 66,
   "metadata": {},
   "outputs": [
    {
     "name": "stdout",
     "output_type": "stream",
     "text": [
      "[2. 2. 2. 2. 2.]\n"
     ]
    }
   ],
   "source": [
    "print(b)"
   ]
  },
  {
   "cell_type": "code",
   "execution_count": 68,
   "metadata": {},
   "outputs": [
    {
     "name": "stdout",
     "output_type": "stream",
     "text": [
      "a: [1. 1. 1. 1. 1.]\n",
      "b: tensor([1., 1., 1., 1., 1.], dtype=torch.float64)\n",
      "a: [2. 2. 2. 2. 2.]\n",
      "b: tensor([2., 2., 2., 2., 2.], dtype=torch.float64)\n"
     ]
    }
   ],
   "source": [
    "#numpy를 torch 텐서로 바꾸기\n",
    "a = np.ones(5)\n",
    "print(\"a:\", a)\n",
    "b = torch.from_numpy(a)\n",
    "print(\"b:\", b)\n",
    "\n",
    "np.add(a, 1, out=a)\n",
    "print(\"a:\", a)\n",
    "print(\"b:\", b)"
   ]
  },
  {
   "cell_type": "markdown",
   "metadata": {},
   "source": [
    "## CUDA Tensors"
   ]
  },
  {
   "cell_type": "code",
   "execution_count": 70,
   "metadata": {},
   "outputs": [
    {
     "data": {
      "text/plain": [
       "'\\n# We will use ``torch.device`` objects to move tensors in and out of GPU\\nif torch.cuda.is_available():\\n    device = torch.device(\"cuda\")          # a CUDA device object\\n    y = torch.ones_like(x, device=device)  # directly create a tensor on GPU\\n    x = x.to(device)                       # or just use strings ``.to(\"cuda\")``\\n    z = x + y\\n    print(z)\\n    print(z.to(\"cpu\", torch.double))       # ``.to`` can also change dtype together!\\n'"
      ]
     },
     "execution_count": 70,
     "metadata": {},
     "output_type": "execute_result"
    }
   ],
   "source": [
    "\"\"\"\n",
    "# We will use ``torch.device`` objects to move tensors in and out of GPU\n",
    "if torch.cuda.is_available():\n",
    "    device = torch.device(\"cuda\")          # a CUDA device object\n",
    "    y = torch.ones_like(x, device=device)  # directly create a tensor on GPU\n",
    "    x = x.to(device)                       # or just use strings ``.to(\"cuda\")``\n",
    "    z = x + y\n",
    "    print(z)\n",
    "    print(z.to(\"cpu\", torch.double))       # ``.to`` can also change dtype together!\n",
    "\"\"\""
   ]
  },
  {
   "cell_type": "code",
   "execution_count": null,
   "metadata": {},
   "outputs": [],
   "source": []
  }
 ],
 "metadata": {
  "kernelspec": {
   "display_name": "Python 3",
   "language": "python",
   "name": "python3"
  },
  "language_info": {
   "codemirror_mode": {
    "name": "ipython",
    "version": 3
   },
   "file_extension": ".py",
   "mimetype": "text/x-python",
   "name": "python",
   "nbconvert_exporter": "python",
   "pygments_lexer": "ipython3",
   "version": "3.7.4"
  }
 },
 "nbformat": 4,
 "nbformat_minor": 2
}
